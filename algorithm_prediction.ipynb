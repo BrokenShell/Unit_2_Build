{
  "nbformat": 4,
  "nbformat_minor": 0,
  "metadata": {
    "colab": {
      "name": "algorithm_prediction.ipynb",
      "provenance": [],
      "collapsed_sections": [
        "WSfGPx06ZLxm"
      ],
      "authorship_tag": "ABX9TyPqLyxO5lkDQudr0U5I6ZWt",
      "include_colab_link": true
    },
    "kernelspec": {
      "name": "python3",
      "display_name": "Python 3"
    }
  },
  "cells": [
    {
      "cell_type": "markdown",
      "metadata": {
        "id": "view-in-github",
        "colab_type": "text"
      },
      "source": [
        "<a href=\"https://colab.research.google.com/github/BrokenShell/Unit_2_Build/blob/master/algorithm_prediction.ipynb\" target=\"_parent\"><img src=\"https://colab.research.google.com/assets/colab-badge.svg\" alt=\"Open In Colab\"/></a>"
      ]
    },
    {
      "cell_type": "markdown",
      "metadata": {
        "id": "Yn_96tjSGCOh",
        "colab_type": "text"
      },
      "source": [
        "# Algorithm Prediction Research\n",
        "### Random Distribution Detection Project\n",
        "##### by Robert Sharp\n",
        "<br/>\n",
        "\n",
        "## Custom Libraries:\n",
        "- [Fortuna](https://pypi.org/project/fortuna/): Random Value Toolkit\n",
        "- [MonkeyScope](https://pypi.org/project/monkeyscope/): Distribution & Performance Test Suite for Non-deterministic Functions\n",
        "\n",
        "## Target Algorithms (Fortuna):\n",
        "- front_linear\n",
        "- back_linear\n",
        "- front_gauss\n",
        "- back_gauss\n",
        "- front_poisson\n",
        "- back_poisson\n",
        "\n",
        "## Distribution Ranges:\n",
        "- d4 `[1..4]`\n",
        "- d6 `[1..6]`\n",
        "- d8 `[1..8]`\n",
        "- d10 `[1..10]`\n",
        "- d12 `[1..12]`\n",
        "- d20 `[1..20]`\n",
        "\n",
        "## Data Sets:\n",
        "Each set contains 10,000 rows of 10 random rolls of a random distribution algorithm over a given range. A Flat Uniform Distribution is used to select the algorithm for each row.\n",
        "- dice_4.csv\n",
        "- dice_6.csv\n",
        "- dice_8.csv\n",
        "- dice_10.csv\n",
        "- dice_12.csv\n",
        "- dice_20.csv\n",
        "\n",
        "## Features:\n",
        "A series of 10 random rolls of a given range, the specific distribution is produced with a random algorithm.\n",
        "\n",
        "## Baseline Guess:\n",
        "For a given a range, one would have a 1 in 6 chance (16.7%) to guess the correct algorithm.\n",
        "\n",
        "## Model & Training:\n",
        "RandomForestClassifier. Six models will be trained to recognize 6 algorithms across 6 data sets.\n",
        "\n",
        "## Research Question: \n",
        "_Are smaller dice more difficult to predict?_\n",
        "- TL;DR: Mostly Yes.\n"
      ]
    },
    {
      "cell_type": "code",
      "metadata": {
        "id": "eKch6W4Gjaia",
        "colab_type": "code",
        "outputId": "5b4854f6-9a01-4f7f-c4f8-9d935d317b17",
        "colab": {
          "base_uri": "https://localhost:8080/",
          "height": 394
        }
      },
      "source": [
        "!pip install Fortuna\n",
        "!pip install MonkeyScope"
      ],
      "execution_count": 0,
      "outputs": [
        {
          "output_type": "stream",
          "text": [
            "Collecting Fortuna\n",
            "\u001b[?25l  Downloading https://files.pythonhosted.org/packages/c8/e4/8d853ed28265df888eb94399b1b87442fa8cf4c88de4776fff80a5a05c04/Fortuna-3.17.8.tar.gz (187kB)\n",
            "\r\u001b[K     |█▊                              | 10kB 18.8MB/s eta 0:00:01\r\u001b[K     |███▌                            | 20kB 1.8MB/s eta 0:00:01\r\u001b[K     |█████▎                          | 30kB 2.6MB/s eta 0:00:01\r\u001b[K     |███████                         | 40kB 1.7MB/s eta 0:00:01\r\u001b[K     |████████▊                       | 51kB 2.1MB/s eta 0:00:01\r\u001b[K     |██████████▌                     | 61kB 2.5MB/s eta 0:00:01\r\u001b[K     |████████████▎                   | 71kB 2.9MB/s eta 0:00:01\r\u001b[K     |██████████████                  | 81kB 2.2MB/s eta 0:00:01\r\u001b[K     |███████████████▊                | 92kB 2.5MB/s eta 0:00:01\r\u001b[K     |█████████████████▌              | 102kB 2.7MB/s eta 0:00:01\r\u001b[K     |███████████████████▎            | 112kB 2.7MB/s eta 0:00:01\r\u001b[K     |█████████████████████           | 122kB 2.7MB/s eta 0:00:01\r\u001b[K     |██████████████████████▊         | 133kB 2.7MB/s eta 0:00:01\r\u001b[K     |████████████████████████▌       | 143kB 2.7MB/s eta 0:00:01\r\u001b[K     |██████████████████████████▎     | 153kB 2.7MB/s eta 0:00:01\r\u001b[K     |████████████████████████████    | 163kB 2.7MB/s eta 0:00:01\r\u001b[K     |█████████████████████████████▊  | 174kB 2.7MB/s eta 0:00:01\r\u001b[K     |███████████████████████████████▌| 184kB 2.7MB/s eta 0:00:01\r\u001b[K     |████████████████████████████████| 194kB 2.7MB/s \n",
            "\u001b[?25hBuilding wheels for collected packages: Fortuna\n",
            "  Building wheel for Fortuna (setup.py) ... \u001b[?25l\u001b[?25hdone\n",
            "  Created wheel for Fortuna: filename=Fortuna-3.17.8-cp36-cp36m-linux_x86_64.whl size=528727 sha256=5ddd9ab068fb4f582671730b775671d4c1e56876277c956114f9382b89944eca\n",
            "  Stored in directory: /root/.cache/pip/wheels/34/97/1d/6f346e9b07eefe9fd1a24244813a16152fe2a92d692ae34a22\n",
            "Successfully built Fortuna\n",
            "Installing collected packages: Fortuna\n",
            "Successfully installed Fortuna-3.17.8\n",
            "Collecting MonkeyScope\n",
            "\u001b[?25l  Downloading https://files.pythonhosted.org/packages/28/c1/5943ffd3f68c3126bc40e2b251f4973fdcade829056dd23ce3fc402a2f0b/MonkeyScope-1.2.8.tar.gz (62kB)\n",
            "\u001b[K     |████████████████████████████████| 71kB 2.1MB/s \n",
            "\u001b[?25hRequirement already satisfied: numpy in /usr/local/lib/python3.6/dist-packages (from MonkeyScope) (1.18.2)\n",
            "Building wheels for collected packages: MonkeyScope\n",
            "  Building wheel for MonkeyScope (setup.py) ... \u001b[?25l\u001b[?25hdone\n",
            "  Created wheel for MonkeyScope: filename=MonkeyScope-1.2.8-cp36-cp36m-linux_x86_64.whl size=175119 sha256=bcb854133a8c1f2f1a10dd45e42d832261d2f1cfbcfa6dd91dc70e6ac3052df1\n",
            "  Stored in directory: /root/.cache/pip/wheels/a7/e8/38/cec5b8f20b7cf09f4af1d792b5149f89b9732f39d88e2c70fc\n",
            "Successfully built MonkeyScope\n",
            "Installing collected packages: MonkeyScope\n",
            "Successfully installed MonkeyScope-1.2.8\n"
          ],
          "name": "stdout"
        }
      ]
    },
    {
      "cell_type": "code",
      "metadata": {
        "id": "9H6XiTFmjFYz",
        "colab_type": "code",
        "colab": {}
      },
      "source": [
        "import csv\n",
        "import pandas as pd\n",
        "import itertools as it\n",
        "from sklearn.model_selection import train_test_split\n",
        "from sklearn.ensemble import RandomForestClassifier\n",
        "from Fortuna import RandomValue\n",
        "from Fortuna import front_linear, back_linear\n",
        "from Fortuna import front_gauss, back_gauss\n",
        "from Fortuna import front_poisson, back_poisson\n",
        "from MonkeyScope import distribution_timer"
      ],
      "execution_count": 0,
      "outputs": []
    },
    {
      "cell_type": "markdown",
      "metadata": {
        "id": "WSfGPx06ZLxm",
        "colab_type": "text"
      },
      "source": [
        "## Algorithm Distributions - Example Range d10 (1-10)"
      ]
    },
    {
      "cell_type": "code",
      "metadata": {
        "id": "5Rk8WY4Zsqy7",
        "colab_type": "code",
        "colab": {}
      },
      "source": [
        "def higher_order_dice(func_zc, dice_size):\n",
        "    return func_zc(dice_size) + 1\n",
        "\n",
        "hod = higher_order_dice"
      ],
      "execution_count": 0,
      "outputs": []
    },
    {
      "cell_type": "code",
      "metadata": {
        "id": "sHbxlbCrX7mf",
        "colab_type": "code",
        "outputId": "9d3c15b6-67c5-4801-cdad-f2eaec268e3c",
        "colab": {
          "base_uri": "https://localhost:8080/",
          "height": 357
        }
      },
      "source": [
        "distribution_timer(hod, front_linear, 10)"
      ],
      "execution_count": 0,
      "outputs": [
        {
          "output_type": "stream",
          "text": [
            "Output Analysis: higher_order_dice(<built-in function front_linear>, 10)\n",
            "Typical Timing: 191 ± 51 ns\n",
            "Statistics of 1000 samples:\n",
            " Minimum: 1\n",
            " Median: 3\n",
            " Maximum: 10\n",
            " Mean: 3.854\n",
            " Std Deviation: 2.3419402212695353\n",
            "Distribution of 100000 samples:\n",
            " 1: 18.979%\n",
            " 2: 17.289%\n",
            " 3: 15.067%\n",
            " 4: 12.949%\n",
            " 5: 10.937%\n",
            " 6: 8.848%\n",
            " 7: 6.968%\n",
            " 8: 4.966%\n",
            " 9: 3.012%\n",
            " 10: 0.985%\n",
            "\n"
          ],
          "name": "stdout"
        }
      ]
    },
    {
      "cell_type": "code",
      "metadata": {
        "id": "-gdGhYtVYpPk",
        "colab_type": "code",
        "outputId": "4f14ab39-2f27-4d26-a183-8ed6e0e272a0",
        "colab": {
          "base_uri": "https://localhost:8080/",
          "height": 357
        }
      },
      "source": [
        "distribution_timer(hod, back_linear, 10)"
      ],
      "execution_count": 0,
      "outputs": [
        {
          "output_type": "stream",
          "text": [
            "Output Analysis: higher_order_dice(<built-in function back_linear>, 10)\n",
            "Typical Timing: 211 ± 75 ns\n",
            "Statistics of 1000 samples:\n",
            " Minimum: 1\n",
            " Median: 7\n",
            " Maximum: 10\n",
            " Mean: 7.083\n",
            " Std Deviation: 2.379939284939849\n",
            "Distribution of 100000 samples:\n",
            " 1: 1.005%\n",
            " 2: 3.02%\n",
            " 3: 4.934%\n",
            " 4: 6.974%\n",
            " 5: 9.072%\n",
            " 6: 11.063%\n",
            " 7: 12.979%\n",
            " 8: 14.91%\n",
            " 9: 16.865%\n",
            " 10: 19.178%\n",
            "\n"
          ],
          "name": "stdout"
        }
      ]
    },
    {
      "cell_type": "code",
      "metadata": {
        "id": "PTv-dylYc3-8",
        "colab_type": "code",
        "outputId": "940ce158-e429-467e-ec41-5e769d2d3c8a",
        "colab": {
          "base_uri": "https://localhost:8080/",
          "height": 357
        }
      },
      "source": [
        "distribution_timer(hod, front_gauss, 10)"
      ],
      "execution_count": 0,
      "outputs": [
        {
          "output_type": "stream",
          "text": [
            "Output Analysis: higher_order_dice(<built-in function front_gauss>, 10)\n",
            "Typical Timing: 327 ± 52 ns\n",
            "Statistics of 1000 samples:\n",
            " Minimum: 1\n",
            " Median: 1\n",
            " Maximum: 8\n",
            " Mean: 1.573\n",
            " Std Deviation: 0.9750235894582243\n",
            "Distribution of 100000 samples:\n",
            " 1: 63.001%\n",
            " 2: 23.437%\n",
            " 3: 8.507%\n",
            " 4: 3.172%\n",
            " 5: 1.185%\n",
            " 6: 0.441%\n",
            " 7: 0.17%\n",
            " 8: 0.061%\n",
            " 9: 0.021%\n",
            " 10: 0.005%\n",
            "\n"
          ],
          "name": "stdout"
        }
      ]
    },
    {
      "cell_type": "code",
      "metadata": {
        "id": "BI7bdYJPc6y1",
        "colab_type": "code",
        "outputId": "4edb4cfd-c838-4dd8-eb3b-f1c748d971b2",
        "colab": {
          "base_uri": "https://localhost:8080/",
          "height": 357
        }
      },
      "source": [
        "distribution_timer(hod, back_gauss, 10)"
      ],
      "execution_count": 0,
      "outputs": [
        {
          "output_type": "stream",
          "text": [
            "Output Analysis: higher_order_dice(<built-in function back_gauss>, 10)\n",
            "Typical Timing: 351 ± 79 ns\n",
            "Statistics of 1000 samples:\n",
            " Minimum: 3\n",
            " Median: 10\n",
            " Maximum: 10\n",
            " Mean: 9.445\n",
            " Std Deviation: 0.9554972527433032\n",
            "Distribution of 100000 samples:\n",
            " 1: 0.004%\n",
            " 2: 0.014%\n",
            " 3: 0.062%\n",
            " 4: 0.143%\n",
            " 5: 0.455%\n",
            " 6: 1.17%\n",
            " 7: 3.155%\n",
            " 8: 8.542%\n",
            " 9: 23.44%\n",
            " 10: 63.015%\n",
            "\n"
          ],
          "name": "stdout"
        }
      ]
    },
    {
      "cell_type": "code",
      "metadata": {
        "id": "qtR7Zx1qdAKn",
        "colab_type": "code",
        "outputId": "597201ac-6643-455e-c33c-b88ff426b08a",
        "colab": {
          "base_uri": "https://localhost:8080/",
          "height": 357
        }
      },
      "source": [
        "distribution_timer(hod, front_poisson, 10)"
      ],
      "execution_count": 0,
      "outputs": [
        {
          "output_type": "stream",
          "text": [
            "Output Analysis: higher_order_dice(<built-in function front_poisson>, 10)\n",
            "Typical Timing: 260 ± 39 ns\n",
            "Statistics of 1000 samples:\n",
            " Minimum: 1\n",
            " Median: 3\n",
            " Maximum: 10\n",
            " Mean: 3.454\n",
            " Std Deviation: 1.5400922050318935\n",
            "Distribution of 100000 samples:\n",
            " 1: 8.35%\n",
            " 2: 20.487%\n",
            " 3: 25.63%\n",
            " 4: 21.4%\n",
            " 5: 13.385%\n",
            " 6: 6.637%\n",
            " 7: 2.672%\n",
            " 8: 1.026%\n",
            " 9: 0.317%\n",
            " 10: 0.096%\n",
            "\n"
          ],
          "name": "stdout"
        }
      ]
    },
    {
      "cell_type": "code",
      "metadata": {
        "id": "UszUV7BwdDHe",
        "colab_type": "code",
        "outputId": "7c835d2b-eee9-4794-a616-40edeab0bf4d",
        "colab": {
          "base_uri": "https://localhost:8080/",
          "height": 357
        }
      },
      "source": [
        "distribution_timer(hod, back_poisson, 10)"
      ],
      "execution_count": 0,
      "outputs": [
        {
          "output_type": "stream",
          "text": [
            "Output Analysis: higher_order_dice(<built-in function back_poisson>, 10)\n",
            "Typical Timing: 285 ± 66 ns\n",
            "Statistics of 1000 samples:\n",
            " Minimum: 2\n",
            " Median: 8\n",
            " Maximum: 10\n",
            " Mean: 7.427\n",
            " Std Deviation: 1.5889213322251043\n",
            "Distribution of 100000 samples:\n",
            " 1: 0.098%\n",
            " 2: 0.287%\n",
            " 3: 1.023%\n",
            " 4: 2.839%\n",
            " 5: 6.712%\n",
            " 6: 13.364%\n",
            " 7: 21.289%\n",
            " 8: 25.428%\n",
            " 9: 20.67%\n",
            " 10: 8.29%\n",
            "\n"
          ],
          "name": "stdout"
        }
      ]
    },
    {
      "cell_type": "markdown",
      "metadata": {
        "id": "LYI6rHHiZQ4C",
        "colab_type": "text"
      },
      "source": [
        "## Data Wrangling"
      ]
    },
    {
      "cell_type": "markdown",
      "metadata": {
        "id": "Xx9DbLKsZaMa",
        "colab_type": "text"
      },
      "source": [
        "### Random Algorithm Generator"
      ]
    },
    {
      "cell_type": "markdown",
      "metadata": {
        "id": "vmfFr1fBi6lj",
        "colab_type": "text"
      },
      "source": [
        "- Callable: Flat Uniform Distribution of Target Random Algorithms\n",
        "- Signature: `random_method() -> (String, Callable)`"
      ]
    },
    {
      "cell_type": "code",
      "metadata": {
        "id": "nIUkVzeeXb7X",
        "colab_type": "code",
        "colab": {}
      },
      "source": [
        "# Six Random Distribution Algorithms\n",
        "methods = (\n",
        "    ('Front Linear', front_linear),\n",
        "    ('Back Linear', back_linear),\n",
        "    ('Front Gauss', front_gauss),\n",
        "    ('Back Gauss', back_gauss),\n",
        "    ('Front Poisson', front_poisson),\n",
        "    ('Back Poisson', back_poisson),\n",
        ")\n",
        "random_method = RandomValue(methods)"
      ],
      "execution_count": 0,
      "outputs": []
    },
    {
      "cell_type": "markdown",
      "metadata": {
        "id": "_2Ryc6FHZ9ck",
        "colab_type": "text"
      },
      "source": [
        "### Producing Raw Data"
      ]
    },
    {
      "cell_type": "markdown",
      "metadata": {
        "id": "E0r55rmbjvs0",
        "colab_type": "text"
      },
      "source": [
        "Models the polyhedrals d4-d20 with random distributions."
      ]
    },
    {
      "cell_type": "code",
      "metadata": {
        "id": "6ppNV3bmjf16",
        "colab_type": "code",
        "colab": {}
      },
      "source": [
        "def make_csv(name, var, n_rows, n_cols):\n",
        "    with open(name, 'w', newline='') as csv_file:\n",
        "        spam = csv.writer(csv_file, delimiter=',')\n",
        "        # Header\n",
        "        spam.writerow(it.chain(\n",
        "            ('Method', ),\n",
        "            (f'Value {i+1}' for i in range(n_cols))),\n",
        "        )\n",
        "        # Data Rows\n",
        "        for i in range(n_rows):\n",
        "            name, method = random_method()\n",
        "            spam.writerow(it.chain(\n",
        "                (name, ),\n",
        "                (method(var) + 1 for _ in range(n_cols))\n",
        "            ))"
      ],
      "execution_count": 0,
      "outputs": []
    },
    {
      "cell_type": "code",
      "metadata": {
        "id": "wbjnE2DRj7SL",
        "colab_type": "code",
        "colab": {}
      },
      "source": [
        "dice = (4, 6, 8, 10, 12, 20)\n",
        "n_rows = 10000\n",
        "n_cols = 10\n",
        "for d in dice:\n",
        "    make_csv(f'method_{d}.csv', d, n_rows, n_cols)"
      ],
      "execution_count": 0,
      "outputs": []
    },
    {
      "cell_type": "markdown",
      "metadata": {
        "id": "mEtQRq0vaLwN",
        "colab_type": "text"
      },
      "source": [
        "### Collecting Raw Data"
      ]
    },
    {
      "cell_type": "code",
      "metadata": {
        "id": "kvsw_6iraKhl",
        "colab_type": "code",
        "colab": {}
      },
      "source": [
        "data = {\n",
        "    n: pd.read_csv(f'method_{n}.csv') for n in dice\n",
        "}"
      ],
      "execution_count": 0,
      "outputs": []
    },
    {
      "cell_type": "markdown",
      "metadata": {
        "id": "oLH7dpaZZVO7",
        "colab_type": "text"
      },
      "source": [
        "## Modeling Validation"
      ]
    },
    {
      "cell_type": "code",
      "metadata": {
        "id": "n_5xlu6DXlBu",
        "colab_type": "code",
        "outputId": "8fac3cf8-ba9c-45b6-914b-60c79f29ffbb",
        "colab": {
          "base_uri": "https://localhost:8080/",
          "height": 136
        }
      },
      "source": [
        "model_data = {}\n",
        "print(\"Validation Accuracy:\")\n",
        "for dice_size in dice:\n",
        "    X_train, X_val = train_test_split(data[dice_size], random_state=42)\n",
        "    y_train = X_train['Method']\n",
        "    X_train = X_train.drop(columns=['Method'])\n",
        "    y_val = X_val['Method']\n",
        "    X_val = X_val.drop(columns=['Method'])\n",
        "    model = RandomForestClassifier(\n",
        "        bootstrap=False,\n",
        "        criterion='gini',\n",
        "        max_depth=12,\n",
        "        max_features=1,\n",
        "        n_estimators=128,\n",
        "        n_jobs=-1,\n",
        "        random_state=42,\n",
        "        warm_start=True,\n",
        "    )\n",
        "    model.fit(X_train, y_train)\n",
        "    model_data[f\"d{dice_size}\"] = model\n",
        "    print(f\"d{dice_size}: \\t{100 * model.score(X_val, y_val):.2f}%\")"
      ],
      "execution_count": 0,
      "outputs": [
        {
          "output_type": "stream",
          "text": [
            "Validation Accuracy:\n",
            "d4: \t67.44%\n",
            "d6: \t74.24%\n",
            "d8: \t80.80%\n",
            "d10: \t85.60%\n",
            "d12: \t89.76%\n",
            "d20: \t95.32%\n"
          ],
          "name": "stdout"
        }
      ]
    },
    {
      "cell_type": "markdown",
      "metadata": {
        "id": "4kNyR_bur2_O",
        "colab_type": "text"
      },
      "source": [
        "# Predictions"
      ]
    },
    {
      "cell_type": "code",
      "metadata": {
        "id": "IPRK9qXNt3zD",
        "colab_type": "code",
        "colab": {}
      },
      "source": [
        "def prediction(func, dice_name, dice_size):\n",
        "    test_group = [[hod(func, dice_size) for _ in range(n_cols)]]\n",
        "    result = model_data[dice_name].predict(test_group)\n",
        "    prob = model_data[dice_name].predict_proba(test_group)\n",
        "    return result[0], max(prob[0])"
      ],
      "execution_count": 0,
      "outputs": []
    },
    {
      "cell_type": "code",
      "metadata": {
        "id": "aUZnGn96MkyM",
        "colab_type": "code",
        "outputId": "20a37a5c-c1b5-4072-a2f0-7f2d34735c88",
        "colab": {
          "base_uri": "https://localhost:8080/",
          "height": 34
        }
      },
      "source": [
        "print(f\"Final Data Shape: {n_rows:,} x {n_cols} x {len(dice)}\")"
      ],
      "execution_count": 0,
      "outputs": [
        {
          "output_type": "stream",
          "text": [
            "Final Data Shape: 10,000 x 10 x 6\n"
          ],
          "name": "stdout"
        }
      ]
    },
    {
      "cell_type": "markdown",
      "metadata": {
        "id": "HDAogFoLGxH4",
        "colab_type": "text"
      },
      "source": [
        "## One Prediction for each algorithm of each distribution range."
      ]
    },
    {
      "cell_type": "code",
      "metadata": {
        "id": "PvXvjjxqk9u8",
        "colab_type": "code",
        "outputId": "b115ed15-fd65-4c3e-92b6-2847e361394b",
        "colab": {
          "base_uri": "https://localhost:8080/",
          "height": 646
        }
      },
      "source": [
        "print(\"Algorithm Dice  \\tPrediction Confidence \\tCorrect\")\n",
        "for dice_size in dice:\n",
        "    dice_name = f\"d{dice_size}\"\n",
        "    for named_method in methods:\n",
        "        name, method = named_method\n",
        "        pred, prob = prediction(method, dice_name, dice_size)\n",
        "        correct = True if name == pred else False\n",
        "        print(f\"{name} {dice_name}:  \\t{pred} {100*prob:.0f}%: \\t{correct}\")"
      ],
      "execution_count": 0,
      "outputs": [
        {
          "output_type": "stream",
          "text": [
            "Algorithm Dice  \tPrediction Confidence \tCorrect\n",
            "Front Linear d4:  \tFront Linear 54%: \tTrue\n",
            "Back Linear d4:  \tBack Poisson 40%: \tFalse\n",
            "Front Gauss d4:  \tFront Gauss 86%: \tTrue\n",
            "Back Gauss d4:  \tBack Gauss 92%: \tTrue\n",
            "Front Poisson d4:  \tFront Poisson 52%: \tTrue\n",
            "Back Poisson d4:  \tBack Poisson 50%: \tTrue\n",
            "Front Linear d6:  \tFront Poisson 59%: \tFalse\n",
            "Back Linear d6:  \tBack Poisson 49%: \tFalse\n",
            "Front Gauss d6:  \tFront Gauss 99%: \tTrue\n",
            "Back Gauss d6:  \tBack Gauss 92%: \tTrue\n",
            "Front Poisson d6:  \tFront Poisson 49%: \tTrue\n",
            "Back Poisson d6:  \tBack Poisson 61%: \tTrue\n",
            "Front Linear d8:  \tFront Linear 47%: \tTrue\n",
            "Back Linear d8:  \tBack Linear 60%: \tTrue\n",
            "Front Gauss d8:  \tFront Gauss 99%: \tTrue\n",
            "Back Gauss d8:  \tBack Gauss 98%: \tTrue\n",
            "Front Poisson d8:  \tFront Poisson 79%: \tTrue\n",
            "Back Poisson d8:  \tBack Poisson 54%: \tTrue\n",
            "Front Linear d10:  \tFront Poisson 52%: \tFalse\n",
            "Back Linear d10:  \tBack Poisson 57%: \tFalse\n",
            "Front Gauss d10:  \tFront Gauss 96%: \tTrue\n",
            "Back Gauss d10:  \tBack Gauss 99%: \tTrue\n",
            "Front Poisson d10:  \tFront Linear 53%: \tFalse\n",
            "Back Poisson d10:  \tBack Poisson 65%: \tTrue\n",
            "Front Linear d12:  \tFront Linear 66%: \tTrue\n",
            "Back Linear d12:  \tBack Linear 81%: \tTrue\n",
            "Front Gauss d12:  \tFront Gauss 100%: \tTrue\n",
            "Back Gauss d12:  \tBack Gauss 96%: \tTrue\n",
            "Front Poisson d12:  \tFront Poisson 48%: \tTrue\n",
            "Back Poisson d12:  \tBack Poisson 84%: \tTrue\n",
            "Front Linear d20:  \tFront Linear 65%: \tTrue\n",
            "Back Linear d20:  \tBack Linear 67%: \tTrue\n",
            "Front Gauss d20:  \tFront Gauss 75%: \tTrue\n",
            "Back Gauss d20:  \tBack Gauss 100%: \tTrue\n",
            "Front Poisson d20:  \tFront Poisson 91%: \tTrue\n",
            "Back Poisson d20:  \tBack Poisson 86%: \tTrue\n"
          ],
          "name": "stdout"
        }
      ]
    },
    {
      "cell_type": "code",
      "metadata": {
        "id": "8ja6as5r2Wey",
        "colab_type": "code",
        "colab": {}
      },
      "source": [
        ""
      ],
      "execution_count": 0,
      "outputs": []
    }
  ]
}