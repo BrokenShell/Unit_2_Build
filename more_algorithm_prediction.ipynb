{
  "nbformat": 4,
  "nbformat_minor": 0,
  "metadata": {
    "colab": {
      "name": "more_algorithm_prediction.ipynb",
      "provenance": [],
      "collapsed_sections": [],
      "authorship_tag": "ABX9TyMdk+Q+xwcJBn7DnIKdhQNp",
      "include_colab_link": true
    },
    "kernelspec": {
      "name": "python3",
      "display_name": "Python 3"
    }
  },
  "cells": [
    {
      "cell_type": "markdown",
      "metadata": {
        "id": "view-in-github",
        "colab_type": "text"
      },
      "source": [
        "<a href=\"https://colab.research.google.com/github/BrokenShell/Unit_2_Build/blob/master/more_algorithm_prediction.ipynb\" target=\"_parent\"><img src=\"https://colab.research.google.com/assets/colab-badge.svg\" alt=\"Open In Colab\"/></a>"
      ]
    },
    {
      "cell_type": "markdown",
      "metadata": {
        "id": "Yn_96tjSGCOh",
        "colab_type": "text"
      },
      "source": [
        "# Algorithm Prediction Research\n",
        "### Random Distribution Detection Project\n",
        "##### by Robert Sharp\n",
        "<br/>\n",
        "\n",
        "## Custom Libraries:\n",
        "- [Fortuna](https://pypi.org/project/fortuna/): Random Value Toolkit\n",
        "- [MonkeyScope](https://pypi.org/project/monkeyscope/): Distribution & Performance Test Suite for Non-deterministic Functions\n",
        "\n",
        "## Target Algorithms (Fortuna):\n",
        "- front_linear\n",
        "- back_linear\n",
        "- quantum_linear\n",
        "- front_gauss\n",
        "- back_gauss\n",
        "- quantum_gauss\n",
        "- front_poisson\n",
        "- back_poisson\n",
        "- quantum_poisson\n",
        "- quantum_monty\n",
        "\n",
        "## Distribution Ranges:\n",
        "- d2 `[1..2]`\n",
        "- d4 `[1..4]`\n",
        "- d6 `[1..6]`\n",
        "- d8 `[1..8]`\n",
        "- d10 `[1..10]`\n",
        "- d12 `[1..12]`\n",
        "- d20 `[1..20]`\n",
        "- d100 `[1..100]`\n",
        "\n",
        "## Data Sets:\n",
        "Each set contains 10,000 rows of 99 random rolls of a random distribution algorithm over a given range. A Flat Uniform Distribution is used to select the algorithm for each row.\n",
        "- dice_2.csv\n",
        "- dice_4.csv\n",
        "- dice_6.csv\n",
        "- dice_8.csv\n",
        "- dice_10.csv\n",
        "- dice_12.csv\n",
        "- dice_20.csv\n",
        "- dice_100.csv\n",
        "\n",
        "## Features:\n",
        "A series of 99 random rolls of a given range, the specific distribution is produced with one of 10 possible random algorithms.\n",
        "\n",
        "## Baseline Guess:\n",
        "For any given a distribution range, one would have a 1 in 10 chance (10%) to guess the correct algorithm.\n",
        "\n",
        "## Model & Training:\n",
        "RandomForestClassifier. Eight models will be trained to recognize 10 algorithms across 8 data sets.\n",
        "\n",
        "## One Possible Research Question: \n",
        "_Are smaller dice more difficult to predict?_\n",
        "- TL;DR: Mostly Yes.\n"
      ]
    },
    {
      "cell_type": "code",
      "metadata": {
        "id": "eKch6W4Gjaia",
        "colab_type": "code",
        "outputId": "d3670e25-4108-4da1-c371-2f0d05e9eb05",
        "colab": {
          "base_uri": "https://localhost:8080/",
          "height": 394
        }
      },
      "source": [
        "!pip install Fortuna\n",
        "!pip install MonkeyScope"
      ],
      "execution_count": 0,
      "outputs": [
        {
          "output_type": "stream",
          "text": [
            "Collecting Fortuna\n",
            "\u001b[?25l  Downloading https://files.pythonhosted.org/packages/c8/e4/8d853ed28265df888eb94399b1b87442fa8cf4c88de4776fff80a5a05c04/Fortuna-3.17.8.tar.gz (187kB)\n",
            "\r\u001b[K     |█▊                              | 10kB 19.9MB/s eta 0:00:01\r\u001b[K     |███▌                            | 20kB 1.7MB/s eta 0:00:01\r\u001b[K     |█████▎                          | 30kB 2.6MB/s eta 0:00:01\r\u001b[K     |███████                         | 40kB 1.7MB/s eta 0:00:01\r\u001b[K     |████████▊                       | 51kB 2.1MB/s eta 0:00:01\r\u001b[K     |██████████▌                     | 61kB 2.5MB/s eta 0:00:01\r\u001b[K     |████████████▎                   | 71kB 2.9MB/s eta 0:00:01\r\u001b[K     |██████████████                  | 81kB 2.2MB/s eta 0:00:01\r\u001b[K     |███████████████▊                | 92kB 2.5MB/s eta 0:00:01\r\u001b[K     |█████████████████▌              | 102kB 2.7MB/s eta 0:00:01\r\u001b[K     |███████████████████▎            | 112kB 2.7MB/s eta 0:00:01\r\u001b[K     |█████████████████████           | 122kB 2.7MB/s eta 0:00:01\r\u001b[K     |██████████████████████▊         | 133kB 2.7MB/s eta 0:00:01\r\u001b[K     |████████████████████████▌       | 143kB 2.7MB/s eta 0:00:01\r\u001b[K     |██████████████████████████▎     | 153kB 2.7MB/s eta 0:00:01\r\u001b[K     |████████████████████████████    | 163kB 2.7MB/s eta 0:00:01\r\u001b[K     |█████████████████████████████▊  | 174kB 2.7MB/s eta 0:00:01\r\u001b[K     |███████████████████████████████▌| 184kB 2.7MB/s eta 0:00:01\r\u001b[K     |████████████████████████████████| 194kB 2.7MB/s \n",
            "\u001b[?25hBuilding wheels for collected packages: Fortuna\n",
            "  Building wheel for Fortuna (setup.py) ... \u001b[?25l\u001b[?25hdone\n",
            "  Created wheel for Fortuna: filename=Fortuna-3.17.8-cp36-cp36m-linux_x86_64.whl size=528711 sha256=1bd0c1162cb25af83fb44c4dbf4ec5b22dbca96701c0a0929c887750357a1ecd\n",
            "  Stored in directory: /root/.cache/pip/wheels/34/97/1d/6f346e9b07eefe9fd1a24244813a16152fe2a92d692ae34a22\n",
            "Successfully built Fortuna\n",
            "Installing collected packages: Fortuna\n",
            "Successfully installed Fortuna-3.17.8\n",
            "Collecting MonkeyScope\n",
            "\u001b[?25l  Downloading https://files.pythonhosted.org/packages/28/c1/5943ffd3f68c3126bc40e2b251f4973fdcade829056dd23ce3fc402a2f0b/MonkeyScope-1.2.8.tar.gz (62kB)\n",
            "\u001b[K     |████████████████████████████████| 71kB 2.2MB/s \n",
            "\u001b[?25hRequirement already satisfied: numpy in /usr/local/lib/python3.6/dist-packages (from MonkeyScope) (1.18.2)\n",
            "Building wheels for collected packages: MonkeyScope\n",
            "  Building wheel for MonkeyScope (setup.py) ... \u001b[?25l\u001b[?25hdone\n",
            "  Created wheel for MonkeyScope: filename=MonkeyScope-1.2.8-cp36-cp36m-linux_x86_64.whl size=175105 sha256=67b762e9460aa807beba735b57b4b7996b56be8d7e1d28e336560362f3db3a4f\n",
            "  Stored in directory: /root/.cache/pip/wheels/a7/e8/38/cec5b8f20b7cf09f4af1d792b5149f89b9732f39d88e2c70fc\n",
            "Successfully built MonkeyScope\n",
            "Installing collected packages: MonkeyScope\n",
            "Successfully installed MonkeyScope-1.2.8\n"
          ],
          "name": "stdout"
        }
      ]
    },
    {
      "cell_type": "code",
      "metadata": {
        "id": "9H6XiTFmjFYz",
        "colab_type": "code",
        "colab": {}
      },
      "source": [
        "import csv\n",
        "import pandas as pd\n",
        "import itertools as it\n",
        "from sklearn.model_selection import train_test_split\n",
        "from sklearn.ensemble import RandomForestClassifier\n",
        "from sklearn.model_selection import RandomizedSearchCV\n",
        "from sklearn.linear_model import LogisticRegression\n",
        "from sklearn.preprocessing import StandardScaler\n",
        "from sklearn.pipeline import make_pipeline\n",
        "from Fortuna import RandomValue, quantum_monty, random_index\n",
        "from Fortuna import front_linear, back_linear, quantum_linear\n",
        "from Fortuna import front_gauss, back_gauss, quantum_gauss\n",
        "from Fortuna import front_poisson, back_poisson, quantum_poisson\n",
        "from MonkeyScope import distribution_timer"
      ],
      "execution_count": 0,
      "outputs": []
    },
    {
      "cell_type": "markdown",
      "metadata": {
        "id": "WSfGPx06ZLxm",
        "colab_type": "text"
      },
      "source": [
        "## Algorithm Distributions - Example Range d10 (1-10)"
      ]
    },
    {
      "cell_type": "code",
      "metadata": {
        "id": "5Rk8WY4Zsqy7",
        "colab_type": "code",
        "colab": {}
      },
      "source": [
        "def higher_order_dice(func_zc, dice_size):\n",
        "    return func_zc(dice_size) + 1\n",
        "\n",
        "hod = higher_order_dice"
      ],
      "execution_count": 0,
      "outputs": []
    },
    {
      "cell_type": "code",
      "metadata": {
        "id": "sHbxlbCrX7mf",
        "colab_type": "code",
        "outputId": "9744c21b-3b18-43af-fb7b-08ff7f0db3c1",
        "colab": {
          "base_uri": "https://localhost:8080/",
          "height": 357
        }
      },
      "source": [
        "distribution_timer(hod, front_linear, 10)"
      ],
      "execution_count": 0,
      "outputs": [
        {
          "output_type": "stream",
          "text": [
            "Output Analysis: higher_order_dice(<built-in function front_linear>, 10)\n",
            "Typical Timing: 195 ± 48 ns\n",
            "Statistics of 1000 samples:\n",
            " Minimum: 1\n",
            " Median: 3\n",
            " Maximum: 10\n",
            " Mean: 3.755\n",
            " Std Deviation: 2.3910196569664586\n",
            "Distribution of 100000 samples:\n",
            " 1: 18.99%\n",
            " 2: 16.969%\n",
            " 3: 15.113%\n",
            " 4: 13.035%\n",
            " 5: 10.948%\n",
            " 6: 8.862%\n",
            " 7: 7.075%\n",
            " 8: 4.943%\n",
            " 9: 3.043%\n",
            " 10: 1.022%\n",
            "\n"
          ],
          "name": "stdout"
        }
      ]
    },
    {
      "cell_type": "code",
      "metadata": {
        "id": "-gdGhYtVYpPk",
        "colab_type": "code",
        "outputId": "8bf7be10-4b55-4a60-e6c2-180f01af6261",
        "colab": {
          "base_uri": "https://localhost:8080/",
          "height": 357
        }
      },
      "source": [
        "distribution_timer(hod, back_linear, 10)"
      ],
      "execution_count": 0,
      "outputs": [
        {
          "output_type": "stream",
          "text": [
            "Output Analysis: higher_order_dice(<built-in function back_linear>, 10)\n",
            "Typical Timing: 242 ± 101 ns\n",
            "Statistics of 1000 samples:\n",
            " Minimum: 1\n",
            " Median: 8\n",
            " Maximum: 10\n",
            " Mean: 7.231\n",
            " Std Deviation: 2.3815203127414217\n",
            "Distribution of 100000 samples:\n",
            " 1: 0.972%\n",
            " 2: 3.035%\n",
            " 3: 4.976%\n",
            " 4: 6.952%\n",
            " 5: 9.084%\n",
            " 6: 10.953%\n",
            " 7: 13.072%\n",
            " 8: 14.863%\n",
            " 9: 17.041%\n",
            " 10: 19.052%\n",
            "\n"
          ],
          "name": "stdout"
        }
      ]
    },
    {
      "cell_type": "code",
      "metadata": {
        "id": "GZWD0lgoXIxZ",
        "colab_type": "code",
        "outputId": "d80041d0-3ba8-468b-d7c0-b5b309878a65",
        "colab": {
          "base_uri": "https://localhost:8080/",
          "height": 357
        }
      },
      "source": [
        "distribution_timer(hod, quantum_linear, 10)"
      ],
      "execution_count": 0,
      "outputs": [
        {
          "output_type": "stream",
          "text": [
            "Output Analysis: higher_order_dice(<built-in function quantum_linear>, 10)\n",
            "Typical Timing: 259 ± 56 ns\n",
            "Statistics of 1000 samples:\n",
            " Minimum: 1\n",
            " Median: 5\n",
            " Maximum: 10\n",
            " Mean: 5.469\n",
            " Std Deviation: 2.6531187308524284\n",
            "Distribution of 100000 samples:\n",
            " 1: 7.305%\n",
            " 2: 8.619%\n",
            " 3: 10.036%\n",
            " 4: 11.381%\n",
            " 5: 12.753%\n",
            " 6: 12.644%\n",
            " 7: 11.229%\n",
            " 8: 9.918%\n",
            " 9: 8.741%\n",
            " 10: 7.374%\n",
            "\n"
          ],
          "name": "stdout"
        }
      ]
    },
    {
      "cell_type": "code",
      "metadata": {
        "id": "PTv-dylYc3-8",
        "colab_type": "code",
        "outputId": "e7c9ab8e-3a88-44b0-8167-3307802d3f14",
        "colab": {
          "base_uri": "https://localhost:8080/",
          "height": 357
        }
      },
      "source": [
        "distribution_timer(hod, front_gauss, 10)"
      ],
      "execution_count": 0,
      "outputs": [
        {
          "output_type": "stream",
          "text": [
            "Output Analysis: higher_order_dice(<built-in function front_gauss>, 10)\n",
            "Typical Timing: 332 ± 48 ns\n",
            "Statistics of 1000 samples:\n",
            " Minimum: 1\n",
            " Median: 1\n",
            " Maximum: 9\n",
            " Mean: 1.515\n",
            " Std Deviation: 0.8612636065688599\n",
            "Distribution of 100000 samples:\n",
            " 1: 63.171%\n",
            " 2: 23.323%\n",
            " 3: 8.378%\n",
            " 4: 3.242%\n",
            " 5: 1.203%\n",
            " 6: 0.435%\n",
            " 7: 0.162%\n",
            " 8: 0.052%\n",
            " 9: 0.023%\n",
            " 10: 0.011%\n",
            "\n"
          ],
          "name": "stdout"
        }
      ]
    },
    {
      "cell_type": "code",
      "metadata": {
        "id": "BI7bdYJPc6y1",
        "colab_type": "code",
        "outputId": "914f2b45-76c8-485d-93b1-d1cdcf6ab58e",
        "colab": {
          "base_uri": "https://localhost:8080/",
          "height": 357
        }
      },
      "source": [
        "distribution_timer(hod, back_gauss, 10)"
      ],
      "execution_count": 0,
      "outputs": [
        {
          "output_type": "stream",
          "text": [
            "Output Analysis: higher_order_dice(<built-in function back_gauss>, 10)\n",
            "Typical Timing: 333 ± 51 ns\n",
            "Statistics of 1000 samples:\n",
            " Minimum: 3\n",
            " Median: 10\n",
            " Maximum: 10\n",
            " Mean: 9.416\n",
            " Std Deviation: 0.9586156685554436\n",
            "Distribution of 100000 samples:\n",
            " 1: 0.003%\n",
            " 2: 0.025%\n",
            " 3: 0.074%\n",
            " 4: 0.175%\n",
            " 5: 0.434%\n",
            " 6: 1.156%\n",
            " 7: 3.185%\n",
            " 8: 8.423%\n",
            " 9: 23.163%\n",
            " 10: 63.362%\n",
            "\n"
          ],
          "name": "stdout"
        }
      ]
    },
    {
      "cell_type": "code",
      "metadata": {
        "id": "MTR2Wmw4XLcT",
        "colab_type": "code",
        "outputId": "8aaa18b6-3e4e-402a-a7d9-1af4f6478cf2",
        "colab": {
          "base_uri": "https://localhost:8080/",
          "height": 357
        }
      },
      "source": [
        "distribution_timer(hod, quantum_gauss, 10)"
      ],
      "execution_count": 0,
      "outputs": [
        {
          "output_type": "stream",
          "text": [
            "Output Analysis: higher_order_dice(<built-in function quantum_gauss>, 10)\n",
            "Typical Timing: 373 ± 42 ns\n",
            "Statistics of 1000 samples:\n",
            " Minimum: 1\n",
            " Median: 5\n",
            " Maximum: 10\n",
            " Mean: 5.49\n",
            " Std Deviation: 3.3418408100925454\n",
            "Distribution of 100000 samples:\n",
            " 1: 21.227%\n",
            " 2: 7.722%\n",
            " 3: 3.512%\n",
            " 4: 5.575%\n",
            " 5: 11.977%\n",
            " 6: 11.882%\n",
            " 7: 5.589%\n",
            " 8: 3.598%\n",
            " 9: 7.67%\n",
            " 10: 21.248%\n",
            "\n"
          ],
          "name": "stdout"
        }
      ]
    },
    {
      "cell_type": "code",
      "metadata": {
        "id": "qtR7Zx1qdAKn",
        "colab_type": "code",
        "outputId": "c1ddd059-d96b-4f8e-8412-51b862c666d5",
        "colab": {
          "base_uri": "https://localhost:8080/",
          "height": 357
        }
      },
      "source": [
        "distribution_timer(hod, front_poisson, 10)"
      ],
      "execution_count": 0,
      "outputs": [
        {
          "output_type": "stream",
          "text": [
            "Output Analysis: higher_order_dice(<built-in function front_poisson>, 10)\n",
            "Typical Timing: 379 ± 144 ns\n",
            "Statistics of 1000 samples:\n",
            " Minimum: 1\n",
            " Median: 3\n",
            " Maximum: 10\n",
            " Mean: 3.433\n",
            " Std Deviation: 1.5759159241533158\n",
            "Distribution of 100000 samples:\n",
            " 1: 8.268%\n",
            " 2: 20.617%\n",
            " 3: 25.617%\n",
            " 4: 21.221%\n",
            " 5: 13.396%\n",
            " 6: 6.739%\n",
            " 7: 2.78%\n",
            " 8: 0.979%\n",
            " 9: 0.301%\n",
            " 10: 0.082%\n",
            "\n"
          ],
          "name": "stdout"
        }
      ]
    },
    {
      "cell_type": "code",
      "metadata": {
        "id": "UszUV7BwdDHe",
        "colab_type": "code",
        "outputId": "493ebc55-c45b-4883-b75b-2d396a42f1d0",
        "colab": {
          "base_uri": "https://localhost:8080/",
          "height": 357
        }
      },
      "source": [
        "distribution_timer(hod, back_poisson, 10)"
      ],
      "execution_count": 0,
      "outputs": [
        {
          "output_type": "stream",
          "text": [
            "Output Analysis: higher_order_dice(<built-in function back_poisson>, 10)\n",
            "Typical Timing: 314 ± 74 ns\n",
            "Statistics of 1000 samples:\n",
            " Minimum: 2\n",
            " Median: 8\n",
            " Maximum: 10\n",
            " Mean: 7.457\n",
            " Std Deviation: 1.5703983571056104\n",
            "Distribution of 100000 samples:\n",
            " 1: 0.104%\n",
            " 2: 0.296%\n",
            " 3: 0.987%\n",
            " 4: 2.858%\n",
            " 5: 6.607%\n",
            " 6: 13.268%\n",
            " 7: 21.532%\n",
            " 8: 25.641%\n",
            " 9: 20.361%\n",
            " 10: 8.346%\n",
            "\n"
          ],
          "name": "stdout"
        }
      ]
    },
    {
      "cell_type": "code",
      "metadata": {
        "id": "8sPyx8SHXN3q",
        "colab_type": "code",
        "outputId": "14b1b2f9-e74a-4f70-cd93-a57f93b91650",
        "colab": {
          "base_uri": "https://localhost:8080/",
          "height": 357
        }
      },
      "source": [
        "distribution_timer(hod, quantum_poisson, 10)"
      ],
      "execution_count": 0,
      "outputs": [
        {
          "output_type": "stream",
          "text": [
            "Output Analysis: higher_order_dice(<built-in function quantum_poisson>, 10)\n",
            "Typical Timing: 800 ± 496 ns\n",
            "Statistics of 1000 samples:\n",
            " Minimum: 1\n",
            " Median: 5\n",
            " Maximum: 10\n",
            " Mean: 5.499\n",
            " Std Deviation: 2.5111748246587693\n",
            "Distribution of 100000 samples:\n",
            " 1: 4.176%\n",
            " 2: 10.455%\n",
            " 3: 13.367%\n",
            " 4: 12.128%\n",
            " 5: 9.898%\n",
            " 6: 10.043%\n",
            " 7: 12.114%\n",
            " 8: 13.316%\n",
            " 9: 10.361%\n",
            " 10: 4.142%\n",
            "\n"
          ],
          "name": "stdout"
        }
      ]
    },
    {
      "cell_type": "code",
      "metadata": {
        "id": "f7c1icmSXP-a",
        "colab_type": "code",
        "outputId": "28faad69-f37d-418d-f6c9-77ecd934a527",
        "colab": {
          "base_uri": "https://localhost:8080/",
          "height": 357
        }
      },
      "source": [
        "distribution_timer(hod, quantum_monty, 10)"
      ],
      "execution_count": 0,
      "outputs": [
        {
          "output_type": "stream",
          "text": [
            "Output Analysis: higher_order_dice(<built-in function quantum_monty>, 10)\n",
            "Typical Timing: 442 ± 102 ns\n",
            "Statistics of 1000 samples:\n",
            " Minimum: 1\n",
            " Median: 5\n",
            " Maximum: 10\n",
            " Mean: 5.374\n",
            " Std Deviation: 2.801807273885911\n",
            "Distribution of 100000 samples:\n",
            " 1: 10.833%\n",
            " 2: 8.996%\n",
            " 3: 9.032%\n",
            " 4: 9.732%\n",
            " 5: 11.567%\n",
            " 6: 11.451%\n",
            " 7: 9.803%\n",
            " 8: 8.925%\n",
            " 9: 8.902%\n",
            " 10: 10.759%\n",
            "\n"
          ],
          "name": "stdout"
        }
      ]
    },
    {
      "cell_type": "markdown",
      "metadata": {
        "id": "jzTKV4BgWfrE",
        "colab_type": "text"
      },
      "source": [
        "> Passing Thought: Wouldn't be neat to train an NLP model on the text out put from the `distribution_timer` function?"
      ]
    },
    {
      "cell_type": "markdown",
      "metadata": {
        "id": "LYI6rHHiZQ4C",
        "colab_type": "text"
      },
      "source": [
        "## Data Wrangling"
      ]
    },
    {
      "cell_type": "markdown",
      "metadata": {
        "id": "Xx9DbLKsZaMa",
        "colab_type": "text"
      },
      "source": [
        "### Random Algorithm Generator"
      ]
    },
    {
      "cell_type": "markdown",
      "metadata": {
        "id": "vmfFr1fBi6lj",
        "colab_type": "text"
      },
      "source": [
        "- Callable: Flat Uniform Distribution of Target Random Algorithms\n",
        "- Signature: `random_method() -> (String, Callable)`"
      ]
    },
    {
      "cell_type": "code",
      "metadata": {
        "id": "nIUkVzeeXb7X",
        "colab_type": "code",
        "colab": {}
      },
      "source": [
        "# Ten Random Distribution Algorithms\n",
        "methods = (\n",
        "    ('Front Linear', front_linear),\n",
        "    ('Back Linear', back_linear),\n",
        "    ('Quantum Linear', quantum_linear),\n",
        "    ('Front Gauss', front_gauss),\n",
        "    ('Back Gauss', back_gauss),\n",
        "    ('Quantum Gauss', quantum_gauss),\n",
        "    ('Front Poisson', front_poisson),\n",
        "    ('Back Poisson', back_poisson),\n",
        "    ('Quantum Poisson', quantum_poisson),\n",
        "    ('Quantum Monty', quantum_monty),\n",
        ")\n",
        "random_method = RandomValue(methods)"
      ],
      "execution_count": 0,
      "outputs": []
    },
    {
      "cell_type": "markdown",
      "metadata": {
        "id": "_2Ryc6FHZ9ck",
        "colab_type": "text"
      },
      "source": [
        "### Producing Raw Data"
      ]
    },
    {
      "cell_type": "markdown",
      "metadata": {
        "id": "E0r55rmbjvs0",
        "colab_type": "text"
      },
      "source": [
        "Models the polyhedrals d4-d20 with random distributions."
      ]
    },
    {
      "cell_type": "code",
      "metadata": {
        "id": "6ppNV3bmjf16",
        "colab_type": "code",
        "colab": {}
      },
      "source": [
        "def make_csv(name, var, n_rows, n_cols):\n",
        "    with open(name, 'w', newline='') as csv_file:\n",
        "        spam = csv.writer(csv_file, delimiter=',')\n",
        "        # Header\n",
        "        spam.writerow(it.chain(\n",
        "            ('Method', ),\n",
        "            (f'Value {i+1}' for i in range(n_cols))),\n",
        "        )\n",
        "        # Data Rows\n",
        "        for i in range(n_rows):\n",
        "            name, method = random_method()\n",
        "            spam.writerow(it.chain(\n",
        "                (name, ),\n",
        "                (method(var) + 1 for _ in range(n_cols))\n",
        "            ))"
      ],
      "execution_count": 0,
      "outputs": []
    },
    {
      "cell_type": "code",
      "metadata": {
        "id": "wbjnE2DRj7SL",
        "colab_type": "code",
        "colab": {}
      },
      "source": [
        "dice = (2, 4, 6, 8, 10, 12, 20, 100)\n",
        "n_rows = 10000\n",
        "n_cols = 99\n",
        "for d in dice:\n",
        "    make_csv(f'method_{d}.csv', d, n_rows, n_cols)"
      ],
      "execution_count": 0,
      "outputs": []
    },
    {
      "cell_type": "markdown",
      "metadata": {
        "id": "mEtQRq0vaLwN",
        "colab_type": "text"
      },
      "source": [
        "### Collecting Raw Data"
      ]
    },
    {
      "cell_type": "code",
      "metadata": {
        "id": "kvsw_6iraKhl",
        "colab_type": "code",
        "colab": {}
      },
      "source": [
        "data = {\n",
        "    n: pd.read_csv(f'method_{n}.csv') for n in dice\n",
        "}"
      ],
      "execution_count": 0,
      "outputs": []
    },
    {
      "cell_type": "markdown",
      "metadata": {
        "id": "oLH7dpaZZVO7",
        "colab_type": "text"
      },
      "source": [
        "## Hyperparameter Tuning"
      ]
    },
    {
      "cell_type": "code",
      "metadata": {
        "id": "xGVuQIsudneg",
        "colab_type": "code",
        "outputId": "bc58aa0c-0439-48eb-f0f9-91001abd1e72",
        "colab": {
          "base_uri": "https://localhost:8080/",
          "height": 272
        }
      },
      "source": [
        "param_dist = {\n",
        "    \"criterion\": ('gini', 'entropy'),\n",
        "    \"warm_start\": (True, False),\n",
        "    \"bootstrap\": (True, False),\n",
        "    \"max_features\": (0.1, 0.2, 0.3, 0.4, 0.5),\n",
        "    \"max_depth\": (12, 16, 20, 24, None),\n",
        "}\n",
        "data10 = data[10]\n",
        "X_train, X_val = train_test_split(data10, random_state=42, stratify=data10['Method'])\n",
        "y_train = X_train['Method']\n",
        "X_train = X_train.drop(columns=['Method'])\n",
        "y_val = X_val['Method']\n",
        "X_val = X_val.drop(columns=['Method'])\n",
        "\n",
        "random_search = RandomizedSearchCV(\n",
        "    RandomForestClassifier(n_estimators=33, n_jobs=1, random_state=42),\n",
        "    n_jobs=-1,\n",
        "    verbose=1,\n",
        "    n_iter=200,\n",
        "    cv=3,\n",
        "    random_state=42,\n",
        "    param_distributions=param_dist,\n",
        ").fit(X_train, y_train)\n",
        "\n",
        "print(random_search.best_score_)\n",
        "print(random_search.best_estimator_)"
      ],
      "execution_count": 0,
      "outputs": [
        {
          "output_type": "stream",
          "text": [
            "Fitting 3 folds for each of 200 candidates, totalling 600 fits\n"
          ],
          "name": "stdout"
        },
        {
          "output_type": "stream",
          "text": [
            "[Parallel(n_jobs=-1)]: Using backend LokyBackend with 2 concurrent workers.\n",
            "[Parallel(n_jobs=-1)]: Done  46 tasks      | elapsed:   40.6s\n",
            "[Parallel(n_jobs=-1)]: Done 196 tasks      | elapsed:  3.7min\n",
            "[Parallel(n_jobs=-1)]: Done 446 tasks      | elapsed: 10.3min\n",
            "[Parallel(n_jobs=-1)]: Done 600 out of 600 | elapsed: 16.3min finished\n"
          ],
          "name": "stderr"
        },
        {
          "output_type": "stream",
          "text": [
            "0.7090666666666667\n",
            "RandomForestClassifier(bootstrap=False, ccp_alpha=0.0, class_weight=None,\n",
            "                       criterion='gini', max_depth=None, max_features=0.1,\n",
            "                       max_leaf_nodes=None, max_samples=None,\n",
            "                       min_impurity_decrease=0.0, min_impurity_split=None,\n",
            "                       min_samples_leaf=1, min_samples_split=2,\n",
            "                       min_weight_fraction_leaf=0.0, n_estimators=33, n_jobs=1,\n",
            "                       oob_score=False, random_state=42, verbose=0,\n",
            "                       warm_start=True)\n"
          ],
          "name": "stdout"
        }
      ]
    },
    {
      "cell_type": "markdown",
      "metadata": {
        "id": "MBc_WYzBxool",
        "colab_type": "text"
      },
      "source": [
        "## Model Validation"
      ]
    },
    {
      "cell_type": "code",
      "metadata": {
        "id": "n_5xlu6DXlBu",
        "colab_type": "code",
        "outputId": "78521580-788a-4ed9-e1c0-926db983dc5e",
        "colab": {
          "base_uri": "https://localhost:8080/",
          "height": 170
        }
      },
      "source": [
        "model_data = {}\n",
        "print(\"Validation Accuracy:\")\n",
        "for dice_size in dice:\n",
        "    X_train, X_val = train_test_split(data[dice_size], random_state=42)\n",
        "    y_train = X_train['Method']\n",
        "    X_train = X_train.drop(columns=['Method'])\n",
        "    y_val = X_val['Method']\n",
        "    X_val = X_val.drop(columns=['Method'])\n",
        "    model = RandomForestClassifier(\n",
        "        bootstrap=False, ccp_alpha=0.0, class_weight=None,\n",
        "        criterion='gini', max_depth=None, max_features=0.1,\n",
        "        max_leaf_nodes=None, max_samples=None,\n",
        "        min_impurity_decrease=0.0, min_impurity_split=None,\n",
        "        min_samples_leaf=1, min_samples_split=2,\n",
        "        min_weight_fraction_leaf=0.0, n_estimators=999, n_jobs=1,\n",
        "        oob_score=False, random_state=42, verbose=0,\n",
        "        warm_start=True,\n",
        "    ).fit(X_train, y_train)\n",
        "    model_data[f\"d{dice_size}\"] = model\n",
        "    print(f\"d{dice_size}: \\t{100 * model.score(X_val, y_val):.2f}%\")"
      ],
      "execution_count": 0,
      "outputs": [
        {
          "output_type": "stream",
          "text": [
            "Validation Accuracy:\n",
            "d2: \t55.40%\n",
            "d4: \t62.16%\n",
            "d6: \t72.56%\n",
            "d8: \t80.28%\n",
            "d10: \t82.80%\n",
            "d12: \t84.96%\n",
            "d20: \t89.04%\n",
            "d100: \t94.12%\n"
          ],
          "name": "stdout"
        }
      ]
    },
    {
      "cell_type": "markdown",
      "metadata": {
        "id": "4kNyR_bur2_O",
        "colab_type": "text"
      },
      "source": [
        "# Predictions"
      ]
    },
    {
      "cell_type": "code",
      "metadata": {
        "id": "IPRK9qXNt3zD",
        "colab_type": "code",
        "colab": {}
      },
      "source": [
        "def prediction(func, dice_name, dice_size):\n",
        "    test_group = [[hod(func, dice_size) for _ in range(n_cols)]]\n",
        "    result = model_data[dice_name].predict(test_group)\n",
        "    prob = model_data[dice_name].predict_proba(test_group)\n",
        "    return result[0], max(prob[0])"
      ],
      "execution_count": 0,
      "outputs": []
    },
    {
      "cell_type": "code",
      "metadata": {
        "id": "aUZnGn96MkyM",
        "colab_type": "code",
        "outputId": "9cb6caae-83e1-4f00-9c5c-bef8c94fa5b6",
        "colab": {
          "base_uri": "https://localhost:8080/",
          "height": 34
        }
      },
      "source": [
        "print(f\"Final Data Shape: {n_rows:,} x {n_cols} x {len(dice)}\")"
      ],
      "execution_count": 0,
      "outputs": [
        {
          "output_type": "stream",
          "text": [
            "Final Data Shape: 10,000 x 99 x 8\n"
          ],
          "name": "stdout"
        }
      ]
    },
    {
      "cell_type": "markdown",
      "metadata": {
        "id": "HDAogFoLGxH4",
        "colab_type": "text"
      },
      "source": [
        "## One Prediction for each algorithm of each distribution range."
      ]
    },
    {
      "cell_type": "code",
      "metadata": {
        "id": "PvXvjjxqk9u8",
        "colab_type": "code",
        "outputId": "303511df-9ea7-4c58-df24-5fd2f24a081b",
        "colab": {
          "base_uri": "https://localhost:8080/",
          "height": 1000
        }
      },
      "source": [
        "print(\"Algorithm Dice  \\tPrediction Confidence \\tCorrect\")\n",
        "for dice_size in dice:\n",
        "    dice_name = f\"d{dice_size}\"\n",
        "    for named_method in methods:\n",
        "        name, method = named_method\n",
        "        pred, prob = prediction(method, dice_name, dice_size)\n",
        "        correct = True if name == pred else False\n",
        "        print(f\"{name} {dice_name}:  \\t{pred} {100*prob:.0f}%: \\t{correct}\")"
      ],
      "execution_count": 0,
      "outputs": [
        {
          "output_type": "stream",
          "text": [
            "Algorithm Dice  \tPrediction Confidence \tCorrect\n",
            "Front Linear d2:  \tFront Linear 29%: \tTrue\n",
            "Back Linear d2:  \tBack Linear 38%: \tTrue\n",
            "Quantum Linear d2:  \tFront Poisson 18%: \tFalse\n",
            "Front Gauss d2:  \tFront Gauss 100%: \tTrue\n",
            "Back Gauss d2:  \tBack Gauss 100%: \tTrue\n",
            "Quantum Gauss d2:  \tFront Poisson 17%: \tFalse\n",
            "Front Poisson d2:  \tFront Poisson 29%: \tTrue\n",
            "Back Poisson d2:  \tBack Linear 30%: \tFalse\n",
            "Quantum Poisson d2:  \tQuantum Monty 19%: \tFalse\n",
            "Quantum Monty d2:  \tQuantum Poisson 16%: \tFalse\n",
            "Front Linear d4:  \tFront Poisson 37%: \tFalse\n",
            "Back Linear d4:  \tBack Poisson 40%: \tFalse\n",
            "Quantum Linear d4:  \tQuantum Monty 18%: \tFalse\n",
            "Front Gauss d4:  \tFront Gauss 99%: \tTrue\n",
            "Back Gauss d4:  \tBack Gauss 98%: \tTrue\n",
            "Quantum Gauss d4:  \tQuantum Gauss 19%: \tTrue\n",
            "Front Poisson d4:  \tFront Linear 37%: \tFalse\n",
            "Back Poisson d4:  \tBack Poisson 39%: \tTrue\n",
            "Quantum Poisson d4:  \tQuantum Linear 19%: \tFalse\n",
            "Quantum Monty d4:  \tQuantum Monty 17%: \tTrue\n",
            "Front Linear d6:  \tFront Linear 34%: \tTrue\n",
            "Back Linear d6:  \tBack Linear 37%: \tTrue\n",
            "Quantum Linear d6:  \tQuantum Poisson 25%: \tFalse\n",
            "Front Gauss d6:  \tFront Gauss 95%: \tTrue\n",
            "Back Gauss d6:  \tBack Gauss 96%: \tTrue\n",
            "Quantum Gauss d6:  \tBack Linear 19%: \tFalse\n",
            "Front Poisson d6:  \tFront Poisson 41%: \tTrue\n",
            "Back Poisson d6:  \tBack Poisson 43%: \tTrue\n",
            "Quantum Poisson d6:  \tQuantum Linear 23%: \tFalse\n",
            "Quantum Monty d6:  \tQuantum Linear 19%: \tFalse\n",
            "Front Linear d8:  \tFront Linear 37%: \tTrue\n",
            "Back Linear d8:  \tBack Linear 35%: \tTrue\n",
            "Quantum Linear d8:  \tQuantum Poisson 25%: \tFalse\n",
            "Front Gauss d8:  \tFront Gauss 87%: \tTrue\n",
            "Back Gauss d8:  \tBack Gauss 91%: \tTrue\n",
            "Quantum Gauss d8:  \tQuantum Gauss 24%: \tTrue\n",
            "Front Poisson d8:  \tFront Poisson 58%: \tTrue\n",
            "Back Poisson d8:  \tBack Poisson 62%: \tTrue\n",
            "Quantum Poisson d8:  \tQuantum Poisson 28%: \tTrue\n",
            "Quantum Monty d8:  \tQuantum Monty 22%: \tTrue\n",
            "Front Linear d10:  \tFront Linear 36%: \tTrue\n",
            "Back Linear d10:  \tBack Linear 39%: \tTrue\n",
            "Quantum Linear d10:  \tQuantum Poisson 24%: \tFalse\n",
            "Front Gauss d10:  \tFront Gauss 95%: \tTrue\n",
            "Back Gauss d10:  \tBack Gauss 90%: \tTrue\n",
            "Quantum Gauss d10:  \tQuantum Gauss 29%: \tTrue\n",
            "Front Poisson d10:  \tFront Poisson 56%: \tTrue\n",
            "Back Poisson d10:  \tBack Poisson 57%: \tTrue\n",
            "Quantum Poisson d10:  \tQuantum Poisson 26%: \tTrue\n",
            "Quantum Monty d10:  \tQuantum Monty 21%: \tTrue\n",
            "Front Linear d12:  \tFront Linear 39%: \tTrue\n",
            "Back Linear d12:  \tBack Linear 37%: \tTrue\n",
            "Quantum Linear d12:  \tQuantum Linear 24%: \tTrue\n",
            "Front Gauss d12:  \tFront Gauss 95%: \tTrue\n",
            "Back Gauss d12:  \tBack Gauss 97%: \tTrue\n",
            "Quantum Gauss d12:  \tQuantum Gauss 23%: \tTrue\n",
            "Front Poisson d12:  \tFront Poisson 65%: \tTrue\n",
            "Back Poisson d12:  \tBack Poisson 59%: \tTrue\n",
            "Quantum Poisson d12:  \tQuantum Poisson 25%: \tTrue\n",
            "Quantum Monty d12:  \tQuantum Linear 22%: \tFalse\n",
            "Front Linear d20:  \tFront Linear 54%: \tTrue\n",
            "Back Linear d20:  \tBack Linear 45%: \tTrue\n",
            "Quantum Linear d20:  \tQuantum Poisson 23%: \tFalse\n",
            "Front Gauss d20:  \tFront Gauss 93%: \tTrue\n",
            "Back Gauss d20:  \tBack Gauss 91%: \tTrue\n",
            "Quantum Gauss d20:  \tQuantum Gauss 34%: \tTrue\n",
            "Front Poisson d20:  \tFront Poisson 92%: \tTrue\n",
            "Back Poisson d20:  \tBack Poisson 69%: \tTrue\n",
            "Quantum Poisson d20:  \tQuantum Poisson 29%: \tTrue\n",
            "Quantum Monty d20:  \tQuantum Monty 22%: \tTrue\n",
            "Front Linear d100:  \tFront Linear 53%: \tTrue\n",
            "Back Linear d100:  \tBack Linear 55%: \tTrue\n",
            "Quantum Linear d100:  \tQuantum Linear 29%: \tTrue\n",
            "Front Gauss d100:  \tFront Gauss 95%: \tTrue\n",
            "Back Gauss d100:  \tBack Gauss 91%: \tTrue\n",
            "Quantum Gauss d100:  \tQuantum Gauss 33%: \tTrue\n",
            "Front Poisson d100:  \tFront Poisson 98%: \tTrue\n",
            "Back Poisson d100:  \tBack Poisson 89%: \tTrue\n",
            "Quantum Poisson d100:  \tQuantum Poisson 64%: \tTrue\n",
            "Quantum Monty d100:  \tQuantum Monty 25%: \tTrue\n"
          ],
          "name": "stdout"
        }
      ]
    },
    {
      "cell_type": "code",
      "metadata": {
        "id": "8ja6as5r2Wey",
        "colab_type": "code",
        "colab": {}
      },
      "source": [
        ""
      ],
      "execution_count": 0,
      "outputs": []
    }
  ]
}